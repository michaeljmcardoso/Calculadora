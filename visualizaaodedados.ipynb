{
  "nbformat": 4,
  "nbformat_minor": 0,
  "metadata": {
    "colab": {
      "name": "visualizaaodedados.ipynb",
      "provenance": [],
      "authorship_tag": "ABX9TyNSsvAsvbrodXS1j1Rjb8c4",
      "include_colab_link": true
    },
    "kernelspec": {
      "name": "python3",
      "display_name": "Python 3"
    },
    "language_info": {
      "name": "python"
    }
  },
  "cells": [
    {
      "cell_type": "markdown",
      "metadata": {
        "id": "view-in-github",
        "colab_type": "text"
      },
      "source": [
        "<a href=\"https://colab.research.google.com/github/michaeljmcardoso/Calculadora/blob/main/visualizaaodedados.ipynb\" target=\"_parent\"><img src=\"https://colab.research.google.com/assets/colab-badge.svg\" alt=\"Open In Colab\"/></a>"
      ]
    },
    {
      "cell_type": "markdown",
      "source": [
        "# Visualização de Dados.\n",
        "# Como plotar um Histograma no Python"
      ],
      "metadata": {
        "id": "mk7u2nKxUzCX"
      }
    },
    {
      "cell_type": "markdown",
      "source": [
        "Um elemento muito importante do Data Science é a visualização de dados, sendo uma ferramenta importante para qualquer cientista de dados.\n",
        "Uma das atividades mais comuns para o cientista de dados é a criação de gráficos para explanação dos seus resultados e busca de insigths.\n",
        "Outra forma de visualização também bastante utilizada é o histograma.\n",
        "Um histograma é basicamente um gráfico de distribuição de frequência, e que permite analisar visualmente como uma amostra/população está distribuída.\n",
        "\n",
        "Vejamos como é simples e rápido plotar um histograma no python.\n",
        "\n",
        "Primeiro vamos importar a biblioteca matplotlib.\n",
        "Matplotlib é uma biblioteca bastante ampla para criar visualizações estáticas, animadas e interativas em Python (https://matplotlib.org/).\n",
        "Após definir os valores do eixo y, vamos adicionar uma função para plotar o histograma e outra para mostrar o plt. Por fim, para testar, vamos executar o código.\n"
      ],
      "metadata": {
        "id": "tiZhLzo2LEpd"
      }
    },
    {
      "cell_type": "code",
      "source": [
        "# importando o método pyplot da biblioteca matplotlib \n",
        "#chamado de plt, pensar como um apelido\n",
        "from matplotlib import pyplot as plt\n",
        "#valores do eixo-y\n",
        "y = [13, 1, 2, 6, 4]\n",
        "#Função para plotar o histograma\n",
        "plt.hist(y)\n",
        "#Função para mostrar o plt\n",
        "plt.show()"
      ],
      "metadata": {
        "colab": {
          "base_uri": "https://localhost:8080/",
          "height": 265
        },
        "id": "IAYo-rUUO-rO",
        "outputId": "73a69074-04c0-47e4-b6db-ca3905b1a4ac"
      },
      "execution_count": 3,
      "outputs": [
        {
          "output_type": "display_data",
          "data": {
            "text/plain": [
              "<Figure size 432x288 with 1 Axes>"
            ],
            "image/png": "[encoded data removed]"
          },
          "metadata": {
            "needs_background": "light"
          }
        }
      ]
    }
  ]
}